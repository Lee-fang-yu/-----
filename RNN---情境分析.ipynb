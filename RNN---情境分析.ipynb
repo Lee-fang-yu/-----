{
 "cells": [
  {
   "cell_type": "markdown",
   "metadata": {},
   "source": [
    "# RNN : 情意分析"
   ]
  },
  {
   "cell_type": "code",
   "execution_count": 1,
   "metadata": {},
   "outputs": [],
   "source": [
    "%matplotlib inline\n",
    "import numpy as np\n",
    "import matplotlib.pyplot as plt\n",
    "import pandas as pd"
   ]
  },
  {
   "cell_type": "markdown",
   "metadata": {},
   "source": [
    "#### ● IMDB 互聯網電影資料庫(Internate Movie Database)：\n",
    "#### 是一個關於電影、電影演員、電視節目、電視明星、電視製作的數據庫，包含許多訊息，例如：評論、內容、演員、片長…\n",
    "#### ●此處用的數據集為來自imdb中25000條電影評論，以（情意）正面、反面作為輸出，keras 已經幫我們預處理，下圖為原始資料的模樣（非此情意分析的原始資料）"
   ]
  },
  {
   "cell_type": "markdown",
   "metadata": {},
   "source": [
    "### 原始data模樣（非此情意分析的原始資料）\n",
    "![說明](v2-d5421cd5c9a908bb0f5c7d1d5af3161d_r.jpg)"
   ]
  },
  {
   "cell_type": "code",
   "execution_count": 2,
   "metadata": {},
   "outputs": [],
   "source": [
    "from tensorflow.keras.preprocessing import sequence\n",
    "from tensorflow.keras.models import Sequential\n",
    "from tensorflow.keras.layers import Dense, Embedding\n",
    "from tensorflow.keras.layers import LSTM \n",
    "from tensorflow.keras.datasets import imdb"
   ]
  },
  {
   "cell_type": "markdown",
   "metadata": {},
   "source": [
    "## Step 1 讀檔"
   ]
  },
  {
   "cell_type": "markdown",
   "metadata": {},
   "source": [
    "#### ● num_words=10000 決定幾個常用字"
   ]
  },
  {
   "cell_type": "code",
   "execution_count": 3,
   "metadata": {},
   "outputs": [],
   "source": [
    "(x_train, y_train), (x_test, y_test) = imdb.load_data(num_words=10000)"
   ]
  },
  {
   "cell_type": "markdown",
   "metadata": {},
   "source": [
    "#### ● 通常一個字（或詞）我們會給他一個代表數字，通常是以這個字出現的頻率作為他的代表數字"
   ]
  },
  {
   "cell_type": "code",
   "execution_count": 22,
   "metadata": {},
   "outputs": [
    {
     "data": {
      "text/plain": [
       "array([1415,   33,    6,   22,   12,  215,   28,   77,   52,    5,   14,\n",
       "        407,   16,   82,    2,    8,    4,  107,  117, 5952,   15,  256,\n",
       "          4,    2,    7, 3766,    5,  723,   36,   71,   43,  530,  476,\n",
       "         26,  400,  317,   46,    7,    4,    2, 1029,   13,  104,   88,\n",
       "          4,  381,   15,  297,   98,   32, 2071,   56,   26,  141,    6,\n",
       "        194, 7486,   18,    4,  226,   22,   21,  134,  476,   26,  480,\n",
       "          5,  144,   30, 5535,   18,   51,   36,   28,  224,   92,   25,\n",
       "        104,    4,  226,   65,   16,   38, 1334,   88,   12,   16,  283,\n",
       "          5,   16, 4472,  113,  103,   32,   15,   16, 5345,   19,  178,\n",
       "         32])"
      ]
     },
     "execution_count": 22,
     "metadata": {},
     "output_type": "execute_result"
    }
   ],
   "source": [
    "x_train[0]"
   ]
  },
  {
   "cell_type": "markdown",
   "metadata": {},
   "source": [
    "????? 資料長怎樣"
   ]
  },
  {
   "cell_type": "markdown",
   "metadata": {},
   "source": [
    "#### ● x_train中的東西長度不同"
   ]
  },
  {
   "cell_type": "code",
   "execution_count": 6,
   "metadata": {},
   "outputs": [
    {
     "data": {
      "text/plain": [
       "189"
      ]
     },
     "execution_count": 6,
     "metadata": {},
     "output_type": "execute_result"
    }
   ],
   "source": [
    "#len(x_test)\n",
    "#len(x_train[0])\n",
    "len(x_train[1])"
   ]
  },
  {
   "cell_type": "code",
   "execution_count": 7,
   "metadata": {},
   "outputs": [
    {
     "data": {
      "text/plain": [
       "1"
      ]
     },
     "execution_count": 7,
     "metadata": {},
     "output_type": "execute_result"
    }
   ],
   "source": [
    "#y_train[0] #great comments\n",
    "y_train[0] #bad comments"
   ]
  },
  {
   "cell_type": "markdown",
   "metadata": {},
   "source": [
    "## Step 2 資料前處理\n",
    "#### ● 由於每份資料的長度不同，所以為了電腦計算速度考量我們將資料長度都調成一致\n",
    "#### ● pad 就是將長度不足的資料補０，長度過長的資料縮短\n",
    "#### ● 此處由於輸入為one-hot encoding 所以不用正規劃  ??????"
   ]
  },
  {
   "cell_type": "code",
   "execution_count": 8,
   "metadata": {},
   "outputs": [],
   "source": [
    "x_train = sequence.pad_sequences(x_train, maxlen=100)\n",
    "x_test = sequence.pad_sequences(x_test, maxlen=100)"
   ]
  },
  {
   "cell_type": "markdown",
   "metadata": {},
   "source": [
    "## Step 3 打造神經網路"
   ]
  },
  {
   "cell_type": "code",
   "execution_count": 9,
   "metadata": {},
   "outputs": [],
   "source": [
    "model=Sequential()"
   ]
  },
  {
   "cell_type": "code",
   "execution_count": 10,
   "metadata": {},
   "outputs": [],
   "source": [
    "# one-hot encoding => embedding  #壓縮維度維128維\n",
    "model.add(Embedding(10000, 128))"
   ]
  },
  {
   "cell_type": "markdown",
   "metadata": {},
   "source": [
    "#### ● dropout : 選到的不參加學習，避免overfitting (所有NN都可以用)\n",
    "#### e.g. 今天有一場考試，老師已事先給了考古題，而每個同學分別分配一題去背答案(training)，所以我們要避免此情況，因此dropout就是限制佔多少%的人不能進來答題(training)，讓大家都認真學習(training)\n",
    "#### ● recurrent_dropout = 0.2 :  hidden state 也要設dropout， 避免讓hidden state的輸出進來 ，避免overfitting"
   ]
  },
  {
   "cell_type": "code",
   "execution_count": 11,
   "metadata": {},
   "outputs": [],
   "source": [
    "#不用給activation fn，因為LSTM的activation fn固定為tanh\n",
    "#不用給控制閘函數，因為LSTM的控制閘函數固定為sigmoid\n",
    "#不一定要128\n",
    "model.add(LSTM(128, dropout=0.2, recurrent_dropout=0.2))"
   ]
  },
  {
   "cell_type": "code",
   "execution_count": 12,
   "metadata": {},
   "outputs": [],
   "source": [
    "#輸出一個數即可，另一個自動生成\n",
    "#由於此處是情境分析，所以只有正評與負評 e.g.正評0.3與負評0.7\n",
    "model.add(Dense(1, activation='sigmoid'))"
   ]
  },
  {
   "cell_type": "markdown",
   "metadata": {},
   "source": [
    "#### ● binary_crossentropy : 常用於分類問題\n",
    "#### ●此處輸入只有0、1因此為binary_crossentropy"
   ]
  },
  {
   "cell_type": "code",
   "execution_count": 13,
   "metadata": {},
   "outputs": [],
   "source": [
    "model.compile(loss='binary_crossentropy', optimizer='adam', metrics=['accuracy'])"
   ]
  },
  {
   "cell_type": "code",
   "execution_count": 14,
   "metadata": {},
   "outputs": [
    {
     "name": "stdout",
     "output_type": "stream",
     "text": [
      "Model: \"sequential\"\n",
      "_________________________________________________________________\n",
      "Layer (type)                 Output Shape              Param #   \n",
      "=================================================================\n",
      "embedding (Embedding)        (None, None, 128)         1280000   \n",
      "_________________________________________________________________\n",
      "lstm (LSTM)                  (None, 128)               131584    \n",
      "_________________________________________________________________\n",
      "dense (Dense)                (None, 1)                 129       \n",
      "=================================================================\n",
      "Total params: 1,411,713\n",
      "Trainable params: 1,411,713\n",
      "Non-trainable params: 0\n",
      "_________________________________________________________________\n"
     ]
    }
   ],
   "source": [
    "model.summary()"
   ]
  },
  {
   "cell_type": "code",
   "execution_count": null,
   "metadata": {},
   "outputs": [],
   "source": [
    "#1280000 = 128*10000 (embedding不會做bias)\n",
    "#131584 = (128 (embedding) + 128(LSTM) + 1(bias) ) * 4 (3個gates加上自己長得像RNN) * 128(LSTM有128神經元) \n",
    "#下圖說明"
   ]
  },
  {
   "cell_type": "markdown",
   "metadata": {},
   "source": [
    "### 解釋參數數量\n",
    "![說明](ss.jpg)"
   ]
  },
  {
   "cell_type": "markdown",
   "metadata": {},
   "source": [
    "## Step 4 Training"
   ]
  },
  {
   "cell_type": "markdown",
   "metadata": {},
   "source": [
    "#### ●我們在乎testing的誤差，不在乎training的誤差\n",
    "#### ●validation_data=(x_test, y_test)每次學習完，都會用測試資料算誤差，可以知道每次testing的誤差\n",
    "#### ●val_loss越來越大代表為overfitting"
   ]
  },
  {
   "cell_type": "code",
   "execution_count": 16,
   "metadata": {},
   "outputs": [
    {
     "name": "stdout",
     "output_type": "stream",
     "text": [
      "Train on 25000 samples, validate on 25000 samples\n",
      "Epoch 1/10\n",
      "25000/25000 [==============================] - 81s 3ms/sample - loss: 0.4769 - accuracy: 0.7708 - val_loss: 0.3901 - val_accuracy: 0.8281\n",
      "Epoch 2/10\n",
      "25000/25000 [==============================] - 83s 3ms/sample - loss: 0.3318 - accuracy: 0.8626 - val_loss: 0.3810 - val_accuracy: 0.8359\n",
      "Epoch 3/10\n",
      "25000/25000 [==============================] - 83s 3ms/sample - loss: 0.2665 - accuracy: 0.8912 - val_loss: 0.4028 - val_accuracy: 0.8292\n",
      "Epoch 4/10\n",
      "25000/25000 [==============================] - 83s 3ms/sample - loss: 0.2168 - accuracy: 0.9156 - val_loss: 0.4187 - val_accuracy: 0.8402\n",
      "Epoch 5/10\n",
      "25000/25000 [==============================] - 83s 3ms/sample - loss: 0.1748 - accuracy: 0.9338 - val_loss: 0.4476 - val_accuracy: 0.8350\n",
      "Epoch 6/10\n",
      "25000/25000 [==============================] - 83s 3ms/sample - loss: 0.1352 - accuracy: 0.9499 - val_loss: 0.4889 - val_accuracy: 0.8348\n",
      "Epoch 7/10\n",
      "25000/25000 [==============================] - 84s 3ms/sample - loss: 0.1104 - accuracy: 0.9596 - val_loss: 0.5293 - val_accuracy: 0.8350\n",
      "Epoch 8/10\n",
      "25000/25000 [==============================] - 83s 3ms/sample - loss: 0.0923 - accuracy: 0.9669 - val_loss: 0.5466 - val_accuracy: 0.8328\n",
      "Epoch 9/10\n",
      "25000/25000 [==============================] - 89s 4ms/sample - loss: 0.0735 - accuracy: 0.9738 - val_loss: 0.6078 - val_accuracy: 0.8324\n",
      "Epoch 10/10\n",
      "25000/25000 [==============================] - 84s 3ms/sample - loss: 0.0544 - accuracy: 0.9820 - val_loss: 0.7043 - val_accuracy: 0.8241\n"
     ]
    },
    {
     "data": {
      "text/plain": [
       "<tensorflow.python.keras.callbacks.History at 0x15799193208>"
      ]
     },
     "execution_count": 16,
     "metadata": {},
     "output_type": "execute_result"
    }
   ],
   "source": [
    "model.fit(x_train, y_train, batch_size=32, epochs=10, validation_data=(x_test, y_test))"
   ]
  },
  {
   "cell_type": "markdown",
   "metadata": {},
   "source": [
    "## Step 5 儲存weights : weights是我們要學習的東西"
   ]
  },
  {
   "cell_type": "code",
   "execution_count": 18,
   "metadata": {},
   "outputs": [],
   "source": [
    "#json : 是一種資料存放格式  (jupyter notebook就是用json存起來的)\n",
    "model_json = model.to_json()\n",
    "\n",
    "#'imdb_model_architecture.json'亂取的，用來說明我們此處存的是網路架構\n",
    "#'w'是python標準open的檔案\n",
    "open('imdb_model_architecture.json','w').write(model_json)\n",
    "\n",
    "#儲存權重\n",
    "model.save_weights('imdb_model_weights.h5')"
   ]
  },
  {
   "cell_type": "code",
   "execution_count": null,
   "metadata": {},
   "outputs": [],
   "source": []
  },
  {
   "cell_type": "code",
   "execution_count": null,
   "metadata": {},
   "outputs": [],
   "source": []
  },
  {
   "cell_type": "code",
   "execution_count": null,
   "metadata": {},
   "outputs": [],
   "source": []
  },
  {
   "cell_type": "code",
   "execution_count": null,
   "metadata": {},
   "outputs": [],
   "source": []
  },
  {
   "cell_type": "markdown",
   "metadata": {},
   "source": [
    "## ？？？？能做甚麼應用"
   ]
  },
  {
   "cell_type": "code",
   "execution_count": null,
   "metadata": {},
   "outputs": [],
   "source": []
  },
  {
   "cell_type": "code",
   "execution_count": null,
   "metadata": {},
   "outputs": [],
   "source": []
  },
  {
   "cell_type": "code",
   "execution_count": null,
   "metadata": {},
   "outputs": [],
   "source": []
  },
  {
   "cell_type": "code",
   "execution_count": null,
   "metadata": {},
   "outputs": [],
   "source": []
  },
  {
   "cell_type": "code",
   "execution_count": null,
   "metadata": {},
   "outputs": [],
   "source": []
  },
  {
   "cell_type": "code",
   "execution_count": null,
   "metadata": {},
   "outputs": [],
   "source": []
  },
  {
   "cell_type": "code",
   "execution_count": null,
   "metadata": {},
   "outputs": [],
   "source": []
  },
  {
   "cell_type": "code",
   "execution_count": null,
   "metadata": {},
   "outputs": [],
   "source": []
  }
 ],
 "metadata": {
  "kernelspec": {
   "display_name": "Python 3",
   "language": "python",
   "name": "python3"
  },
  "language_info": {
   "codemirror_mode": {
    "name": "ipython",
    "version": 3
   },
   "file_extension": ".py",
   "mimetype": "text/x-python",
   "name": "python",
   "nbconvert_exporter": "python",
   "pygments_lexer": "ipython3",
   "version": "3.7.4"
  }
 },
 "nbformat": 4,
 "nbformat_minor": 2
}
